{
 "cells": [
  {
   "cell_type": "markdown",
   "metadata": {},
   "source": [
    "# Find the Missing Element\n",
    "## Problem\n",
    "Consider an array of non-negative integers. A second array is formed by shuffling the elements of the first array and deleting a random element. Given these two arrays, find which element is missing in the second array.\n",
    "\n",
    "Here is an example input, the first array is shuffled and the number 5 is removed to construct the second array.\n",
    "\n",
    "#### Input:\n",
    "finder([1,2,3,4,5,6,7],[3,7,2,1,4,6])\n",
    "\n",
    "#### Output:\n",
    "5 is the missing number\n",
    "\n",
    "## Solution\n",
    "The naive solution is go through every element in the second array and check whether it appears in the first array. Note that there may be duplicate elements in the arrays so we should pay special attention to it. The complexity of this approach is O(N^2), since we would need two for loops.\n",
    "\n",
    "A more efficient solution is to sort the first array, so while checking whether an element in the first array appears in the second, we can do binary search (we'll learn about binary search in more detail in a future section). But we should still be careful about duplicate elements. The complexity is O(NlogN).\n",
    "\n",
    "If we don’t want to deal with the special case of duplicate numbers, we can sort both arrays and iterate over them simultaneously. Once two iterators have different values we can stop. The value of the first iterator is the missing element. This solution is also O(NlogN). Here is the solution for this approach:"
   ]
  },
  {
   "cell_type": "markdown",
   "metadata": {},
   "source": [
    "### Solution 1 - Sort - O(n*log(n))"
   ]
  },
  {
   "cell_type": "code",
   "execution_count": 1,
   "metadata": {
    "collapsed": false
   },
   "outputs": [],
   "source": [
    "def finder(arr1, arr2):\n",
    "    \n",
    "    # sort the arrays\n",
    "    arr1.sort()\n",
    "    arr2.sort()\n",
    "    \n",
    "    # Compare elements in the sorted arrays\n",
    "    for num1, num2 in zip(arr1, arr2):\n",
    "        \n",
    "        #print (num1, num2)\n",
    "        \n",
    "        if num1 != num2:\n",
    "            return num1\n",
    "        \n",
    "    # Otherwise return lost element\n",
    "    ## return arr1[-1]\n",
    "    return None"
   ]
  },
  {
   "cell_type": "code",
   "execution_count": 2,
   "metadata": {
    "collapsed": false
   },
   "outputs": [
    {
     "data": {
      "text/plain": [
       "5"
      ]
     },
     "execution_count": 2,
     "metadata": {},
     "output_type": "execute_result"
    }
   ],
   "source": [
    "arr1 = [1,2,3,4,5,6,7]\n",
    "arr2 = [3,7,2,1,6,4]\n",
    "finder(arr1,arr2)"
   ]
  },
  {
   "cell_type": "markdown",
   "metadata": {},
   "source": [
    "### Solution 2 - hashtable - O(n)\n",
    "In most interviews, you would be expected to come up with a linear time solution. We can use a **hashtable** and store the number of times each element appears in the second array. Then for each element in the first array we decrement its counter. Once hit an element with zero count that’s the missing element. Here is this solution:"
   ]
  },
  {
   "cell_type": "code",
   "execution_count": 3,
   "metadata": {
    "collapsed": true
   },
   "outputs": [],
   "source": [
    "import collections\n",
    "\n",
    "def finder2(arr1, arr2):\n",
    "    \n",
    "    # Using default dict to avoid key errors\n",
    "    d = collections.defaultdict(int)\n",
    "    \n",
    "    # Add a count for every instance in Array 1\n",
    "    for num in arr2:\n",
    "        d[num] += 1\n",
    "        print(d)\n",
    "    \n",
    "    print('***********************************')\n",
    "    # Check if num not in dictionary\n",
    "    for num in arr1:\n",
    "        if d[num] == 0:\n",
    "            return num\n",
    "        \n",
    "        # Otherwise, subtract a count\n",
    "        else: \n",
    "            d[num] -= 1\n",
    "            print(d)"
   ]
  },
  {
   "cell_type": "code",
   "execution_count": 4,
   "metadata": {
    "collapsed": false
   },
   "outputs": [
    {
     "name": "stdout",
     "output_type": "stream",
     "text": [
      "defaultdict(<type 'int'>, {3: 1})\n",
      "defaultdict(<type 'int'>, {3: 1, 7: 1})\n",
      "defaultdict(<type 'int'>, {2: 1, 3: 1, 7: 1})\n",
      "defaultdict(<type 'int'>, {1: 1, 2: 1, 3: 1, 7: 1})\n",
      "defaultdict(<type 'int'>, {1: 1, 2: 1, 3: 1, 6: 1, 7: 1})\n",
      "defaultdict(<type 'int'>, {1: 1, 2: 1, 3: 1, 4: 1, 6: 1, 7: 1})\n",
      "***********************************\n",
      "defaultdict(<type 'int'>, {1: 0, 2: 1, 3: 1, 4: 1, 6: 1, 7: 1})\n",
      "defaultdict(<type 'int'>, {1: 0, 2: 0, 3: 1, 4: 1, 6: 1, 7: 1})\n",
      "defaultdict(<type 'int'>, {1: 0, 2: 0, 3: 0, 4: 1, 6: 1, 7: 1})\n",
      "defaultdict(<type 'int'>, {1: 0, 2: 0, 3: 0, 4: 0, 6: 1, 7: 1})\n"
     ]
    },
    {
     "data": {
      "text/plain": [
       "5"
      ]
     },
     "execution_count": 4,
     "metadata": {},
     "output_type": "execute_result"
    }
   ],
   "source": [
    "arr1 = [1,2,3,4,5,6,7]\n",
    "arr2 = [3,7,2,1,6,4]\n",
    "finder2(arr1,arr2)"
   ]
  },
  {
   "cell_type": "code",
   "execution_count": 5,
   "metadata": {
    "collapsed": true
   },
   "outputs": [],
   "source": [
    "def finder_2(arr1, arr2):\n",
    "    arr2Set = set(arr2)\n",
    "    for num in arr1:\n",
    "        if num not in arr2Set:\n",
    "            return num\n",
    "    return None"
   ]
  },
  {
   "cell_type": "code",
   "execution_count": 6,
   "metadata": {
    "collapsed": false
   },
   "outputs": [
    {
     "data": {
      "text/plain": [
       "5"
      ]
     },
     "execution_count": 6,
     "metadata": {},
     "output_type": "execute_result"
    }
   ],
   "source": [
    "arr1 = [1,2,3,4,5,6,7]\n",
    "arr2 = [3,7,2,1,6,4]\n",
    "finder_2(arr1,arr2)"
   ]
  },
  {
   "cell_type": "markdown",
   "metadata": {},
   "source": [
    "### Solution 3\n",
    "\n",
    "One possible solution is computing the **sum of all the numbers** in arr1 and arr2, and **subtracting** arr2’s sum from array1’s sum. The **difference** is the missing number in arr2. However, this approach could be problematic if the arrays are too long, or the numbers are very large. Then overflow will occur while summing up the numbers.\n",
    "\n",
    "By performing a very clever trick, we can achieve linear time and constant space complexity without any problems. Here it is: initialize a variable to 0, then **[XOR](https://en.wikipedia.org/wiki/Exclusive_or)** every element in the first and second arrays with that variable. In the end, the value of the variable is the result, missing element in array2."
   ]
  },
  {
   "cell_type": "code",
   "execution_count": 7,
   "metadata": {
    "collapsed": true
   },
   "outputs": [],
   "source": [
    "def finder3(arr1, arr2): \n",
    "    \n",
    "    result=0 \n",
    "    \n",
    "    # Perform an XOR between the numbers in the arrays\n",
    "    for num in arr1+arr2: \n",
    "        result^=num \n",
    "        print(result)\n",
    "        \n",
    "    return result"
   ]
  },
  {
   "cell_type": "code",
   "execution_count": 8,
   "metadata": {
    "collapsed": false
   },
   "outputs": [
    {
     "name": "stdout",
     "output_type": "stream",
     "text": [
      "1\n",
      "3\n",
      "2\n"
     ]
    },
    {
     "data": {
      "text/plain": [
       "2"
      ]
     },
     "execution_count": 8,
     "metadata": {},
     "output_type": "execute_result"
    }
   ],
   "source": [
    "#arr1 = [1,2,3,4,5,6,7]\n",
    "#arr2 = [3,7,2,1,6,4]\n",
    "arr1 = [1,2]\n",
    "arr2 = [1]\n",
    "finder3(arr1,arr2)"
   ]
  }
 ],
 "metadata": {
  "anaconda-cloud": {},
  "kernelspec": {
   "display_name": "Python [conda env:gl-env]",
   "language": "python",
   "name": "conda-env-gl-env-py"
  },
  "language_info": {
   "codemirror_mode": {
    "name": "ipython",
    "version": 2
   },
   "file_extension": ".py",
   "mimetype": "text/x-python",
   "name": "python",
   "nbconvert_exporter": "python",
   "pygments_lexer": "ipython2",
   "version": "2.7.11"
  }
 },
 "nbformat": 4,
 "nbformat_minor": 1
}
