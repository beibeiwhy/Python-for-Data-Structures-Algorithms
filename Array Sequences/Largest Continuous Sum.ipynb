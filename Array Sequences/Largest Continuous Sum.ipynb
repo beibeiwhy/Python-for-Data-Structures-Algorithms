{
 "cells": [
  {
   "cell_type": "markdown",
   "metadata": {},
   "source": [
    "# Largest Continuous Sum\n",
    "## Problem\n",
    "Given an array of integers (positive and negative) find the largest continuous sum.\n",
    "## Solution\n",
    "If the array is all positive, then the result is simply the sum of all numbers. The negative numbers in the array will cause us to need to begin checking sequences.\n",
    "The algorithm is, we start summing up the numbers and store in a current sum variable. After adding each element, we check whether the current sum is larger than maximum sum encountered so far. If it is, we update the maximum sum. As long as the current sum is positive, we keep adding the numbers. When the current sum becomes negative, we start with a new current sum. Because a negative current sum will only decrease the sum of a future sequence. Note that we don’t reset the current sum to 0 because the array can contain all negative integers. Then the result would be the largest negative number.\n",
    "Let's see the code:"
   ]
  },
  {
   "cell_type": "code",
   "execution_count": 17,
   "metadata": {
    "collapsed": true
   },
   "outputs": [],
   "source": [
    "def large_cont_sum(arr): \n",
    "    \n",
    "    # Check to see if array is length 0\n",
    "    if len(arr)==0: \n",
    "        return 0\n",
    "    \n",
    "    # Start the max and current sum at the first element\n",
    "    max_sum=current_sum=arr[0] \n",
    "    \n",
    "    # For every element in array\n",
    "    for num in arr[1:]: \n",
    "\n",
    "        # Set current sum as the higher of the two\n",
    "        current_sum=max(current_sum+num, num)\n",
    "        \n",
    "        # Set max as the higher between the currentSum and the current max\n",
    "        max_sum=max(current_sum, max_sum) \n",
    "        \n",
    "        print(\"num=%s current_sum=%s max_sum=%s\" % (num, current_sum, max_sum))\n",
    "        \n",
    "    return max_sum"
   ]
  },
  {
   "cell_type": "code",
   "execution_count": 18,
   "metadata": {
    "collapsed": false
   },
   "outputs": [
    {
     "name": "stdout",
     "output_type": "stream",
     "text": [
      "num=1 current_sum=1 max_sum=1\n",
      "num=2 current_sum=3 max_sum=3\n",
      "num=-1 current_sum=2 max_sum=3\n",
      "num=-1 current_sum=1 max_sum=3\n",
      "num=-1 current_sum=0 max_sum=3\n",
      "num=3 current_sum=3 max_sum=3\n",
      "num=4 current_sum=7 max_sum=7\n",
      "num=10 current_sum=17 max_sum=17\n",
      "num=10 current_sum=27 max_sum=27\n",
      "num=-1 current_sum=26 max_sum=27\n",
      "num=-1 current_sum=25 max_sum=27\n",
      "num=3 current_sum=28 max_sum=28\n"
     ]
    },
    {
     "data": {
      "text/plain": [
       "28"
      ]
     },
     "execution_count": 18,
     "metadata": {},
     "output_type": "execute_result"
    }
   ],
   "source": [
    "large_cont_sum([-1,1,2,-1,-1,-1,3,4,10,10,-1,-1,3])"
   ]
  }
 ],
 "metadata": {
  "kernelspec": {
   "display_name": "Python [conda env:gl-env]",
   "language": "python",
   "name": "conda-env-gl-env-py"
  },
  "language_info": {
   "codemirror_mode": {
    "name": "ipython",
    "version": 2
   },
   "file_extension": ".py",
   "mimetype": "text/x-python",
   "name": "python",
   "nbconvert_exporter": "python",
   "pygments_lexer": "ipython2",
   "version": "2.7.11"
  }
 },
 "nbformat": 4,
 "nbformat_minor": 1
}
